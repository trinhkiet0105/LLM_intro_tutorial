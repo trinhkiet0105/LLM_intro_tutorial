{
 "cells": [
  {
   "cell_type": "code",
   "execution_count": null,
   "metadata": {},
   "outputs": [],
   "source": [
    "from openai import OpenAI\n",
    "openai_api_key = \"EMPTY\" # \"EMPTY\" if you don't have the api-key flag, change to the your custom api key \n",
    "openai_api_base = \"http://localhost:1478/v1\" # chang to your host and port\n",
    "\"\"\" Notice that these 2 can be set as enviroment variables of OPENAI_API_KEY and OPENAI_BASE_URL\"\"\"\n",
    "\n",
    "client = OpenAI(api_key=openai_api_key,base_url=openai_api_base,)\n",
    "\n",
    "SYSTEM_PROMPT = \"\"\"Bạn là một gia sư Toán học với ngôn ngữ Tiếng Việt. CHỈ trả lời thông tin về môn toán học.\n",
    "Nhiệm vụ của bạn là giải bài toán một cách chi tiết từng bước.\n",
    "\n",
    "KHÔNG trả lời cho môn học khác và phản hồi lịch sự là bạn không biết câu hỏi đó.\n",
    "HÃY LUÔN PHẢN HỒI HOÀN TOÀN BẰNG TIẾNG VIỆT\n",
    "\"\"\"\n",
    "messages = [\n",
    "        {'role': 'system', 'content': SYSTEM_PROMPT},\n",
    "        {'role': 'user', 'content': '```Căn bậc hai của t lớn hơn 2 và nhỏ hơn 2.5. Có bao nhiêu giá trị nguyên của t thỏa mãn điều kiện này?```. Trả lời bằng Tiếng Việt'}\n",
    "        ]\n",
    "response = client.chat.completions.create(\n",
    "    model=\"neuralmagic/Qwen2-7B-Instruct-FP8\",\n",
    "    messages=messages,\n",
    "    temperature=0.1,\n",
    "    top_p= 0.9,\n",
    "    stream=True\n",
    ")\n",
    "for chunk in response:\n",
    "    print(chunk.choices[0].delta.content or \"\", end=\"\")\n"
   ]
  }
 ],
 "metadata": {
  "kernelspec": {
   "display_name": "kiettt-ollama",
   "language": "python",
   "name": "python3"
  },
  "language_info": {
   "codemirror_mode": {
    "name": "ipython",
    "version": 3
   },
   "file_extension": ".py",
   "mimetype": "text/x-python",
   "name": "python",
   "nbconvert_exporter": "python",
   "pygments_lexer": "ipython3",
   "version": "3.11.9"
  }
 },
 "nbformat": 4,
 "nbformat_minor": 2
}
