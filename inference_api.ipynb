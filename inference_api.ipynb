{
 "cells": [
  {
   "cell_type": "code",
   "execution_count": null,
   "metadata": {},
   "outputs": [],
   "source": [
    "from openai import OpenAI\n",
    "import time\n",
    "openai_api_key = \"EMPTY\" # \"EMPTY\" if you don't have the api-key flag, change to the your custom api key \n",
    "openai_api_base = \"http://0.0.0.0:8963/v1\" # change to your host and port\n",
    "\"\"\" Notice that these 2 can be set as enviroment variables of OPENAI_API_KEY and OPENAI_BASE_URL\"\"\"\n",
    "\n",
    "from transformers import AutoTokenizer\n",
    "\n",
    "tokenizer = AutoTokenizer.from_pretrained(\"/HDD/models/ai-tutor/tokenizers/Qwen/Qwen2.5-32B-Instruct\")\n",
    "client = OpenAI(api_key=openai_api_key,base_url=openai_api_base,)\n",
    "\n",
    "SYSTEM_PROMPT = \"\"\"Bạn là một gia sư Toán học với ngôn ngữ Tiếng Việt. CHỈ trả lời thông tin về môn toán học.\n",
    "Nhiệm vụ của bạn là giải bài toán một cách chi tiết từng bước.\n",
    "\n",
    "KHÔNG trả lời cho môn học khác và phản hồi lịch sự là bạn không biết câu hỏi đó.\n",
    "HÃY LUÔN PHẢN HỒI HOÀN TOÀN BẰNG TIẾNG VIỆT\n",
    "\"\"\"\n",
    "\n",
    "math_questions =[\n",
    "        'Một đội bóng đá thi đấu trong một sân vận động có sức chứa 55 000 khán giả. Với giá mỗi vé là 100 nghìn đồng, số khán giả trung bình là 27 000 người. Qua thăm dò dư luận, người ta thấy rằng mỗi khi giá vé giảm thêm 10 nghìn đồng, sẽ có thêm khoảng 3000 khán giả. Hỏi ban tổ chức nên đặt giá vé là bao nhiêu để doanh thu từ tiền bán vé là lớn nhất?',\n",
    "        'Trong các câu sau, câu nào là mệnh đề?\\nA. Đi ngủ đi!\\nB. Trung Quốc là nước đông dân nhất thế giới.\\nC. Bạn học trường nào?\\nD. Không được làm việc riêng trong giờ học.',\n",
    "        'Cho hàm số y = f(x) có đạo hàm f’(x) = x2(x + 1)(x – 2) .Tìm số điểm cực trị của hàm số đã cho ',\n",
    "        'Trước kì thi học sinh giỏi cấp huyện, phòng giáo dục bằng động viên đội tuyển học sinh giỏi của huyện có 600 người mỗi người 250 nghìn đồng. Theo như kế hoạch kinh phí ban đầu thì mỗi người nhận sẽ có 500 nghìn đồng.  Ngân sách của huyện chi cho mỗi người tăng thêm bao nhiêu phần trăm so với kế hoạch ban đầu? Chọn ngẫu nhiên một học sinh của đội tuyển.  Xác suất để chọn được học sinh khối lớp chưa được nhận là bao nhiêu?\\nA. $\\\\frac{{117}}{{320}}$\\nB. $\\\\frac{{11}}{{320}}$\\nC. $\\\\frac{{13}}{{32}}$\\nD. $\\\\frac{{13}}{{320}}$',\n",
    "        'Máy bay trực thăng ra lệnh hạ ngẫu nhiên. Tỉ lệ nguy hiểm khi hạ trên bãi cỏ là 0,05. Nếu nguy hiểm thì máy bay trực thăng thứ nhất hạ trên bãi cỏ thì xác suất thành công của thí nghiệm thứ hai là 0,8. Nếu thí nghiệm thứ nhất không thành công thì xác suất thành công của thí nghiệm thứ hai là 0,3. Tìm xác suất của biến cố: “A: Cả hai lần thí nghiệm đều thành công”\\nA. 0,48\\nB. 0,12\\nC. 0,3\\nD. 0,6'\n",
    "]\n",
    "\n",
    "\n",
    "for question in math_questions:\n",
    "    full_output =\"\"\n",
    "\n",
    "    messages = [\n",
    "        {'role': 'system', 'content': SYSTEM_PROMPT},\n",
    "        {'role': 'user', 'content': question}\n",
    "    ]\n",
    "    \n",
    "    response = client.chat.completions.create(\n",
    "        model=\"qwen2.5-72b\",\n",
    "        messages=messages,\n",
    "        max_tokens=1024,\n",
    "        temperature=0.1,\n",
    "        top_p= 0.9,\n",
    "        extra_body={\n",
    "        \"repetition_penalty\": 1.05,\n",
    "    },\n",
    "        stream=True,\n",
    "        stream_options= {'include_usage' : True}\n",
    "    )\n",
    "    start = time.perf_counter()\n",
    "    for part in response:\n",
    "        if len(part.choices)>0:\n",
    "            if token := part.choices[0].delta.content or \"\":\n",
    "                print(token, end='', flush=True)\n",
    "    print()\n"
   ]
  }
 ],
 "metadata": {
  "kernelspec": {
   "display_name": "kiettt-vllm",
   "language": "python",
   "name": "python3"
  },
  "language_info": {
   "codemirror_mode": {
    "name": "ipython",
    "version": 3
   },
   "file_extension": ".py",
   "mimetype": "text/x-python",
   "name": "python",
   "nbconvert_exporter": "python",
   "pygments_lexer": "ipython3",
   "version": "3.11.9"
  }
 },
 "nbformat": 4,
 "nbformat_minor": 2
}
